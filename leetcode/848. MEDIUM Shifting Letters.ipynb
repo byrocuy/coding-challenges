{
 "cells": [
  {
   "cell_type": "code",
   "execution_count": 161,
   "metadata": {},
   "outputs": [],
   "source": [
    "from time import time"
   ]
  },
  {
   "cell_type": "code",
   "execution_count": 190,
   "metadata": {},
   "outputs": [],
   "source": [
    "s = \"xrdofd\"\n",
    "shifts = [70,41,71,72,73,84]"
   ]
  },
  {
   "cell_type": "code",
   "execution_count": 191,
   "metadata": {},
   "outputs": [
    {
     "name": "stdout",
     "output_type": "stream",
     "text": [
      "surjgj\n",
      "0.0\n"
     ]
    }
   ],
   "source": [
    "tick = time()\n",
    "def ShiftingLetters(s, shifts):\n",
    "    s_list = list(s)\n",
    "    for i in range(len(shifts)):\n",
    "        s_list[:i + 1] = [chr(97 + (ord(ch) + shifts[i] - 97) % 26 ) for ch in s_list[:i + 1]]\n",
    "        # print(s_list[1], ord(s_list[1]), sh)\n",
    "    return ''.join(s_list)\n",
    "\n",
    "print(ShiftingLetters(s, shifts))\n",
    "print(time() - tick)"
   ]
  },
  {
   "cell_type": "code",
   "execution_count": 192,
   "metadata": {},
   "outputs": [
    {
     "name": "stdout",
     "output_type": "stream",
     "text": [
      "surjgj\n",
      "0.0010027885437011719\n"
     ]
    }
   ],
   "source": [
    "tick = time()\n",
    "def ShiftingLetters(s, shifts):\n",
    "    result = ''\n",
    "    for i in range(len(s)):\n",
    "        result += chr((ord(s[i]) + sum(shifts[i:]) - 97) % 26 + 97)\n",
    "    return result\n",
    "\n",
    "print(ShiftingLetters(s, shifts))\n",
    "tock = time()\n",
    "print(tock - tick)"
   ]
  },
  {
   "cell_type": "code",
   "execution_count": 193,
   "metadata": {},
   "outputs": [
    {
     "name": "stdout",
     "output_type": "stream",
     "text": [
      "6\n",
      "1\n",
      "21\n",
      "14\n",
      "3\n",
      "21\n",
      "surjgj\n",
      "0.000997781753540039\n"
     ]
    }
   ],
   "source": [
    "tick = time()\n",
    "\n",
    "def ShiftingLetters(s, shifts):\n",
    "    curr = 0\n",
    "    result = ''\n",
    "    for i in range(len(shifts) - 1, -1, -1):\n",
    "        curr = (curr + shifts[i]) % 26\n",
    "        print(curr)\n",
    "        result += chr((ord(s[i]) + curr - 97) % 26 + 97)\n",
    "    return result[::-1]\n",
    "        \n",
    "print(ShiftingLetters(s, shifts))\n",
    "tock = time()\n",
    "print(tock - tick)"
   ]
  },
  {
   "cell_type": "code",
   "execution_count": 194,
   "metadata": {},
   "outputs": [
    {
     "name": "stdout",
     "output_type": "stream",
     "text": [
      "6\n",
      "5\n",
      "4\n",
      "3\n",
      "2\n",
      "1\n",
      "0\n"
     ]
    }
   ],
   "source": [
    "for i in range(len(s), -1, -1):\n",
    "    print(i)"
   ]
  },
  {
   "cell_type": "code",
   "execution_count": 170,
   "metadata": {},
   "outputs": [
    {
     "data": {
      "text/plain": [
       "99"
      ]
     },
     "execution_count": 170,
     "metadata": {},
     "output_type": "execute_result"
    }
   ],
   "source": [
    "97 + (122 + 3) % 97 % 26"
   ]
  },
  {
   "cell_type": "code",
   "execution_count": 171,
   "metadata": {},
   "outputs": [
    {
     "name": "stdout",
     "output_type": "stream",
     "text": [
      "p 112\n"
     ]
    }
   ],
   "source": [
    "a = 97 + (ord('r') + 41 + 71 + 72 + 73 + 84) % 97 % 26\n",
    "print(chr(a), a)"
   ]
  },
  {
   "cell_type": "code",
   "execution_count": 203,
   "metadata": {},
   "outputs": [
    {
     "data": {
      "text/plain": [
       "2"
      ]
     },
     "execution_count": 203,
     "metadata": {},
     "output_type": "execute_result"
    }
   ],
   "source": [
    "# Count True value in list\n",
    "def countTrue(lst):\n",
    "    return lst.count(True)\n",
    "\n",
    "countTrue([True, False, False, True, False, None])"
   ]
  },
  {
   "cell_type": "code",
   "execution_count": null,
   "metadata": {},
   "outputs": [],
   "source": []
  }
 ],
 "metadata": {
  "kernelspec": {
   "display_name": "Python 3",
   "language": "python",
   "name": "python3"
  },
  "language_info": {
   "codemirror_mode": {
    "name": "ipython",
    "version": 3
   },
   "file_extension": ".py",
   "mimetype": "text/x-python",
   "name": "python",
   "nbconvert_exporter": "python",
   "pygments_lexer": "ipython3",
   "version": "3.8.5"
  }
 },
 "nbformat": 4,
 "nbformat_minor": 2
}
