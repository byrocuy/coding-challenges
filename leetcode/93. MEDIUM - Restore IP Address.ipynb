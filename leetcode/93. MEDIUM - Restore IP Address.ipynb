{
 "cells": [
  {
   "cell_type": "code",
   "execution_count": 8,
   "metadata": {},
   "outputs": [
    {
     "name": "stdout",
     "output_type": "stream",
     "text": [
      "['1.0.10.23', '1.0.102.3', '10.1.0.23', '10.10.2.3', '101.0.2.3']\n"
     ]
    }
   ],
   "source": [
    "s = \"101023\"\n",
    "\n",
    "def restore(s):\n",
    "    seg1, seg2, seg3, seg4 = \"\", \"\", \"\", \"\"\n",
    "    result = []\n",
    "\n",
    "    def valid(seg):\n",
    "        if len(seg) == 0 or len(seg) > 3 or (seg[0] == \"0\" and len(seg) > 1) or int(seg) > 255:\n",
    "            return False\n",
    "        return True\n",
    "\n",
    "    for i in range(1, 4):\n",
    "        for j in range(i+1, i+4):\n",
    "            for k in range(j+1, j+4):\n",
    "                seg1, seg2, seg3, seg4 = s[:i], s[i:j], s[j:k], s[k:]\n",
    "\n",
    "                if valid(seg1) and valid(seg2) and valid(seg3) and valid(seg4):\n",
    "                    result.append(seg1 + \".\" + seg2 + \".\" + seg3 + \".\" + seg4)\n",
    "    return result\n",
    "\n",
    "print(restore(s))"
   ]
  },
  {
   "cell_type": "code",
   "execution_count": 4,
   "metadata": {},
   "outputs": [
    {
     "data": {
      "text/plain": [
       "'255'"
      ]
     },
     "execution_count": 4,
     "metadata": {},
     "output_type": "execute_result"
    }
   ],
   "source": [
    "s = \"25525511135\"\n",
    "\n",
    "s[:3]"
   ]
  },
  {
   "cell_type": "code",
   "execution_count": null,
   "metadata": {},
   "outputs": [],
   "source": []
  }
 ],
 "metadata": {
  "kernelspec": {
   "display_name": "Python 3",
   "language": "python",
   "name": "python3"
  },
  "language_info": {
   "codemirror_mode": {
    "name": "ipython",
    "version": 3
   },
   "file_extension": ".py",
   "mimetype": "text/x-python",
   "name": "python",
   "nbconvert_exporter": "python",
   "pygments_lexer": "ipython3",
   "version": "3.8.5"
  }
 },
 "nbformat": 4,
 "nbformat_minor": 2
}
