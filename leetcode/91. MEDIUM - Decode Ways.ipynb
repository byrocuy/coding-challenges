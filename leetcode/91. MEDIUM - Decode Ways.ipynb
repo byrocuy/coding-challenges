{
 "cells": [
  {
   "cell_type": "code",
   "execution_count": null,
   "metadata": {},
   "outputs": [],
   "source": [
    "s = '12'\n",
    "\n",
    "def numDecodings(s):\n",
    "    "
   ]
  },
  {
   "cell_type": "code",
   "execution_count": null,
   "metadata": {},
   "outputs": [],
   "source": [
    "1212\n",
    "\n",
    "1 2 1 2\n",
    "12 1 2\n",
    "1 21 2\n",
    "1 2 12\n",
    "12 12\n"
   ]
  }
 ],
 "metadata": {
  "language_info": {
   "name": "python"
  }
 },
 "nbformat": 4,
 "nbformat_minor": 2
}
