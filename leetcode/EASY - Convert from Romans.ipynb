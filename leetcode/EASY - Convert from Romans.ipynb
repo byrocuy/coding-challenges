{
 "cells": [
  {
   "cell_type": "code",
   "execution_count": 1,
   "metadata": {},
   "outputs": [
    {
     "data": {
      "text/plain": [
       "True"
      ]
     },
     "execution_count": 1,
     "metadata": {},
     "output_type": "execute_result"
    }
   ],
   "source": [
    "s = 'LVIII'\n",
    "\n",
    "'III' in s"
   ]
  },
  {
   "cell_type": "code",
   "execution_count": 3,
   "metadata": {},
   "outputs": [
    {
     "data": {
      "text/plain": [
       "'LV3'"
      ]
     },
     "execution_count": 3,
     "metadata": {},
     "output_type": "execute_result"
    }
   ],
   "source": [
    "s.replace('III', '3')"
   ]
  },
  {
   "cell_type": "code",
   "execution_count": 11,
   "metadata": {},
   "outputs": [
    {
     "name": "stdout",
     "output_type": "stream",
     "text": [
      "1994\n"
     ]
    }
   ],
   "source": [
    "roman_to_num = {'I': 1, 'V': 5, 'X': 10, 'L': 50, 'C': 100,\n",
    "                'D': 500, 'M': 1000}\n",
    "\n",
    "\n",
    "s = 'MCMXCIV'\n",
    "num = 0\n",
    "\n",
    "s = s.replace('IV', 'IIII').replace('IX', 'VIIII')\n",
    "s = s.replace('XL', 'XXXX').replace('XC', 'LXXXX')\n",
    "s = s.replace('CD', 'CCCC').replace('CM', 'DCCCC')\n",
    "\n",
    "for c in s:\n",
    "    num += roman_to_num[c]\n",
    "\n",
    "print(num)"
   ]
  },
  {
   "cell_type": "code",
   "execution_count": null,
   "metadata": {},
   "outputs": [],
   "source": []
  }
 ],
 "metadata": {
  "kernelspec": {
   "display_name": "Python 3",
   "language": "python",
   "name": "python3"
  },
  "language_info": {
   "codemirror_mode": {
    "name": "ipython",
    "version": 3
   },
   "file_extension": ".py",
   "mimetype": "text/x-python",
   "name": "python",
   "nbconvert_exporter": "python",
   "pygments_lexer": "ipython3",
   "version": "3.8.5"
  }
 },
 "nbformat": 4,
 "nbformat_minor": 2
}
