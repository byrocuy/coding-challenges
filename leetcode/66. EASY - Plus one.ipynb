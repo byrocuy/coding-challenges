{
 "cells": [
  {
   "cell_type": "code",
   "execution_count": 41,
   "metadata": {},
   "outputs": [],
   "source": [
    "digits = [9, 9]\n"
   ]
  },
  {
   "cell_type": "code",
   "execution_count": 38,
   "metadata": {},
   "outputs": [
    {
     "name": "stdout",
     "output_type": "stream",
     "text": [
      "[9, 1, 0]\n"
     ]
    }
   ],
   "source": [
    "def plusOne(digits):\n",
    "    plus_one = digits[-1] + 1\n",
    "    if plus_one < 10:\n",
    "        digits[-1] = plus_one\n",
    "    elif plus_one == 10:\n",
    "        digits[-1] = (plus_one + 1) % 10\n",
    "        digits.append(0)\n",
    "        return digits\n",
    "    return digits\n",
    "\n",
    "print(plusOne(digits))\n"
   ]
  },
  {
   "cell_type": "code",
   "execution_count": 46,
   "metadata": {},
   "outputs": [
    {
     "name": "stdout",
     "output_type": "stream",
     "text": [
      "[1, 0, 0]\n"
     ]
    }
   ],
   "source": [
    "def plusOne2(digits):\n",
    "    digits = [str(digit) for digit in digits]\n",
    "    digits = int(''.join(digits))\n",
    "    digits += 1\n",
    "    digits = [int(digit) for digit in str(digits)]\n",
    "    return digits\n",
    "\n",
    "digits = [9, 9]\n",
    "print(plusOne2(digits))"
   ]
  },
  {
   "cell_type": "code",
   "execution_count": 22,
   "metadata": {},
   "outputs": [
    {
     "name": "stdout",
     "output_type": "stream",
     "text": [
      "[1, 0]\n"
     ]
    }
   ],
   "source": [
    "def plusOne3(digits):\n",
    "    digits[-1] += 1\n",
    "    i = len(digits) - 1\n",
    "    while i >= 0:\n",
    "        if digits[i] == 10:\n",
    "            digits[i] = "
   ]
  },
  {
   "cell_type": "code",
   "execution_count": null,
   "metadata": {},
   "outputs": [],
   "source": []
  }
 ],
 "metadata": {
  "kernelspec": {
   "display_name": "Python 3",
   "language": "python",
   "name": "python3"
  },
  "language_info": {
   "codemirror_mode": {
    "name": "ipython",
    "version": 3
   },
   "file_extension": ".py",
   "mimetype": "text/x-python",
   "name": "python",
   "nbconvert_exporter": "python",
   "pygments_lexer": "ipython3",
   "version": "3.8.5"
  }
 },
 "nbformat": 4,
 "nbformat_minor": 2
}
