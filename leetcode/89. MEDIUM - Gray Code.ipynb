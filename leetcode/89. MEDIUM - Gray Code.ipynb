{
 "cells": [
  {
   "cell_type": "code",
   "execution_count": 2,
   "metadata": {},
   "outputs": [
    {
     "name": "stdout",
     "output_type": "stream",
     "text": [
      "['000', '001', '011', '010', '110', '111', '101', '100']\n"
     ]
    }
   ],
   "source": [
    "n = 3\n",
    "\n",
    "def gray_code(n):\n",
    "    if n == 1:\n",
    "        return ['0', '1']\n",
    "    else:\n",
    "        return ['0' + i for i in gray_code(n - 1)] + ['1' + i for i in gray_code(n - 1)[::-1]]\n",
    "    \n",
    "print(gray_code(n))"
   ]
  },
  {
   "cell_type": "code",
   "execution_count": null,
   "metadata": {},
   "outputs": [],
   "source": []
  }
 ],
 "metadata": {
  "kernelspec": {
   "display_name": "Python 3",
   "language": "python",
   "name": "python3"
  },
  "language_info": {
   "codemirror_mode": {
    "name": "ipython",
    "version": 3
   },
   "file_extension": ".py",
   "mimetype": "text/x-python",
   "name": "python",
   "nbconvert_exporter": "python",
   "pygments_lexer": "ipython3",
   "version": "3.8.5"
  }
 },
 "nbformat": 4,
 "nbformat_minor": 2
}
