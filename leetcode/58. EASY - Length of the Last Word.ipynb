{
 "cells": [
  {
   "cell_type": "code",
   "execution_count": 20,
   "metadata": {},
   "outputs": [],
   "source": [
    "s = \"luffy is still joyboy\""
   ]
  },
  {
   "cell_type": "code",
   "execution_count": 21,
   "metadata": {},
   "outputs": [
    {
     "name": "stdout",
     "output_type": "stream",
     "text": [
      "6\n"
     ]
    }
   ],
   "source": [
    "def LengthOfLastWord(s):\n",
    "    i = len(s) - 1\n",
    "    count = 0\n",
    "    while i >= 0:\n",
    "        if s[i] == '_':\n",
    "            pass\n",
    "        elif s[i] != ' ' and s[i-1] == ' ':\n",
    "            count +=1\n",
    "            break\n",
    "        elif s[i] != ' ':\n",
    "            count += 1\n",
    "        i -= 1\n",
    "    return count\n",
    "\n",
    "print(LengthOfLastWord(s))"
   ]
  },
  {
   "cell_type": "code",
   "execution_count": null,
   "metadata": {},
   "outputs": [],
   "source": []
  }
 ],
 "metadata": {
  "kernelspec": {
   "display_name": "Python 3",
   "language": "python",
   "name": "python3"
  },
  "language_info": {
   "codemirror_mode": {
    "name": "ipython",
    "version": 3
   },
   "file_extension": ".py",
   "mimetype": "text/x-python",
   "name": "python",
   "nbconvert_exporter": "python",
   "pygments_lexer": "ipython3",
   "version": "3.8.5"
  }
 },
 "nbformat": 4,
 "nbformat_minor": 2
}
