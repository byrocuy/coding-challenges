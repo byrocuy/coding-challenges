{
 "cells": [
  {
   "cell_type": "code",
   "execution_count": 10,
   "metadata": {},
   "outputs": [
    {
     "name": "stdout",
     "output_type": "stream",
     "text": [
      "0\n"
     ]
    }
   ],
   "source": [
    "haystack = \"a\"\n",
    "needle = \"a\"\n",
    "\n",
    "def find_needle(haystack, needle):\n",
    "    if needle in haystack:\n",
    "        return haystack.index(needle)\n",
    "    else:\n",
    "        return -1\n",
    "\n",
    "print(find_needle(haystack, needle))"
   ]
  },
  {
   "cell_type": "code",
   "execution_count": 12,
   "metadata": {},
   "outputs": [
    {
     "name": "stdout",
     "output_type": "stream",
     "text": [
      "0\n"
     ]
    }
   ],
   "source": [
    "def find_needle2(haystack, needle):\n",
    "    i = 0\n",
    "    while i + len(needle) <= len(haystack):\n",
    "        if haystack[i:i+len(needle)] == needle:\n",
    "            return i\n",
    "        i += 1\n",
    "\n",
    "    return -1\n",
    "\n",
    "print(find_needle2(haystack, needle))"
   ]
  },
  {
   "cell_type": "code",
   "execution_count": 6,
   "metadata": {},
   "outputs": [
    {
     "data": {
      "text/plain": [
       "True"
      ]
     },
     "execution_count": 6,
     "metadata": {},
     "output_type": "execute_result"
    }
   ],
   "source": [
    "'aaa' == 'aaa'"
   ]
  },
  {
   "cell_type": "code",
   "execution_count": null,
   "metadata": {},
   "outputs": [],
   "source": []
  }
 ],
 "metadata": {
  "kernelspec": {
   "display_name": "Python 3",
   "language": "python",
   "name": "python3"
  },
  "language_info": {
   "codemirror_mode": {
    "name": "ipython",
    "version": 3
   },
   "file_extension": ".py",
   "mimetype": "text/x-python",
   "name": "python",
   "nbconvert_exporter": "python",
   "pygments_lexer": "ipython3",
   "version": "3.8.5"
  }
 },
 "nbformat": 4,
 "nbformat_minor": 2
}
