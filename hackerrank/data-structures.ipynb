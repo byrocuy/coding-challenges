{
 "cells": [
  {
   "cell_type": "code",
   "execution_count": 55,
   "metadata": {},
   "outputs": [
    {
     "name": "stdout",
     "output_type": "stream",
     "text": [
      "[2, 3, 4, 1]\n"
     ]
    }
   ],
   "source": [
    "# Arrays\n",
    "# https://www.hackerrank.com/challenges/arrays-ds/problem\n",
    "\n",
    "A = [1, 4, 3, 2]\n",
    "\n",
    "def reverseArray(a):\n",
    "    # easy way:\n",
    "    # return a[::-1]\n",
    "    \n",
    "    # manual way:\n",
    "    n = len(a)\n",
    "    for i in range(n//2):\n",
    "        a[i], a[n-1-i] = a[n-1-i], a[i]\n",
    "    return a\n",
    "\n",
    "print(reverseArray(A)) # [2, 3, 4, 1]"
   ]
  },
  {
   "cell_type": "code",
   "execution_count": 1,
   "metadata": {},
   "outputs": [
    {
     "name": "stdout",
     "output_type": "stream",
     "text": [
      "19\n"
     ]
    }
   ],
   "source": [
    "# 2D Arrays\n",
    "# https://www.hackerrank.com/challenges/2d-array/problem\n",
    "\n",
    "arr = [[1, 1, 1, 0, 0, 0],\n",
    "        [0, 1, 0, 0, 0, 0],\n",
    "        [1, 1, 1, 0, 0, 0],\n",
    "        [0, 0, 2, 4, 4, 0],\n",
    "        [0, 0, 0, 2, 0, 0],\n",
    "        [0, 0, 1, 2, 4, 0]]\n",
    "\n",
    "def hourglassSum(arr):\n",
    "    max_sum = -63 # minimum possible sum\n",
    "    for i in range(4):\n",
    "        for j in range(4):\n",
    "            top = sum(arr[i][j:j+3])\n",
    "            mid = arr[i+1][j+1]\n",
    "            bot = sum(arr[i+2][j:j+3])\n",
    "            total = top + mid + bot\n",
    "            if total > max_sum:\n",
    "                max_sum = total\n",
    "    return max_sum\n",
    "\n",
    "print(hourglassSum(arr)) # 19"
   ]
  },
  {
   "cell_type": "code",
   "execution_count": null,
   "metadata": {},
   "outputs": [],
   "source": [
    "max()"
   ]
  }
 ],
 "metadata": {
  "kernelspec": {
   "display_name": "base",
   "language": "python",
   "name": "python3"
  },
  "language_info": {
   "codemirror_mode": {
    "name": "ipython",
    "version": 3
   },
   "file_extension": ".py",
   "mimetype": "text/x-python",
   "name": "python",
   "nbconvert_exporter": "python",
   "pygments_lexer": "ipython3",
   "version": "3.9.17"
  }
 },
 "nbformat": 4,
 "nbformat_minor": 2
}
