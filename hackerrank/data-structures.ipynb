{
 "cells": [
  {
   "cell_type": "code",
   "execution_count": 55,
   "metadata": {},
   "outputs": [
    {
     "name": "stdout",
     "output_type": "stream",
     "text": [
      "[2, 3, 4, 1]\n"
     ]
    }
   ],
   "source": [
    "# Arrays\n",
    "# https://www.hackerrank.com/challenges/arrays-ds/problem\n",
    "\n",
    "A = [1, 4, 3, 2]\n",
    "\n",
    "def reverseArray(a):\n",
    "    # easy way:\n",
    "    # return a[::-1]\n",
    "    \n",
    "    # manual way:\n",
    "    n = len(a)\n",
    "    for i in range(n//2):\n",
    "        a[i], a[n-1-i] = a[n-1-i], a[i]\n",
    "    return a\n",
    "\n",
    "print(reverseArray(A)) # [2, 3, 4, 1]"
   ]
  },
  {
   "cell_type": "code",
   "execution_count": 1,
   "metadata": {},
   "outputs": [
    {
     "name": "stdout",
     "output_type": "stream",
     "text": [
      "19\n"
     ]
    }
   ],
   "source": [
    "# 2D Arrays\n",
    "# https://www.hackerrank.com/challenges/2d-array/problem\n",
    "\n",
    "arr = [[1, 1, 1, 0, 0, 0],\n",
    "        [0, 1, 0, 0, 0, 0],\n",
    "        [1, 1, 1, 0, 0, 0],\n",
    "        [0, 0, 2, 4, 4, 0],\n",
    "        [0, 0, 0, 2, 0, 0],\n",
    "        [0, 0, 1, 2, 4, 0]]\n",
    "\n",
    "def hourglassSum(arr):\n",
    "    max_sum = -63 # minimum possible sum\n",
    "    for i in range(4):\n",
    "        for j in range(4):\n",
    "            top = sum(arr[i][j:j+3])\n",
    "            mid = arr[i+1][j+1]\n",
    "            bot = sum(arr[i+2][j:j+3])\n",
    "            total = top + mid + bot\n",
    "            if total > max_sum:\n",
    "                max_sum = total\n",
    "    return max_sum\n",
    "\n",
    "print(hourglassSum(arr)) # 19"
   ]
  },
  {
   "cell_type": "code",
   "execution_count": 14,
   "metadata": {},
   "outputs": [
    {
     "name": "stdout",
     "output_type": "stream",
     "text": [
      "[2, 3, 4, 5, 1]\n"
     ]
    }
   ],
   "source": [
    "# Left Rotation\n",
    "\n",
    "n = 5\n",
    "d = 4\n",
    "\n",
    "arr = [1, 2, 3, 4, 5]\n",
    "\n",
    "def rotleft(arr, d):\n",
    "    arr = arr[d:] + arr[:d] \n",
    "    return arr\n",
    "\n",
    "print(rotleft(arr, 1))"
   ]
  },
  {
   "cell_type": "code",
   "execution_count": 37,
   "metadata": {},
   "outputs": [
    {
     "name": "stdout",
     "output_type": "stream",
     "text": [
      "[1, 3, 4, 3, 2]\n"
     ]
    }
   ],
   "source": [
    "# Sparse Array\n",
    "from collections import Counter\n",
    "\n",
    "string_list = ['abcde', 'sdaklfj', 'asdjf', 'na', 'basdn', 'sdaklfj', 'asdjf', 'na', 'asdjf', 'na', 'basdn', 'sdaklfj', 'asdjf']\n",
    "query_list = ['abcde', 'sdaklfj', 'asdjf', 'na', 'basdn']\n",
    "\n",
    "def match_strings(string_list, queries):\n",
    "    count_arr = len(queries) * [0]\n",
    "    count = Counter(string_list)\n",
    "    count_arr = [count[item] if item in count else 0 for item in queries]\n",
    "    return count_arr\n",
    "    \n",
    "\n",
    "arr = match_strings(string_list, query_list)\n",
    "print(arr, )"
   ]
  },
  {
   "cell_type": "code",
   "execution_count": 69,
   "metadata": {},
   "outputs": [
    {
     "name": "stdout",
     "output_type": "stream",
     "text": [
      "[0, 0, 0, 0, 0]\n",
      "[100, 100, 0, 0, 0]\n",
      "[100, 200, 100, 100, 100]\n",
      "[100, 200, 200, 200, 100]\n",
      "200\n"
     ]
    }
   ],
   "source": [
    "# Array Manipulation\n",
    "\n",
    "n = 5\n",
    "q = [[1, 2, 100], \n",
    "     [2, 5, 100], \n",
    "     [3, 4, 100]]\n",
    "\n",
    "def array_manipulation(n, q):\n",
    "    arr = [0] * n\n",
    "    print(arr)\n",
    "    for item in q:\n",
    "        st = item[0] - 1\n",
    "        ed = item[1]\n",
    "        val = item[2]\n",
    "        arr[st:ed] = list(map(lambda x: x + val, arr[st:ed]))\n",
    "        print(arr)\n",
    "    return max(arr)\n",
    "\n",
    "print(array_manipulation(n, q))"
   ]
  },
  {
   "cell_type": "code",
   "execution_count": 72,
   "metadata": {},
   "outputs": [
    {
     "name": "stdout",
     "output_type": "stream",
     "text": [
      "31\n"
     ]
    }
   ],
   "source": [
    "def array_manipulation2(n, q):\n",
    "    arr = [0] * n\n",
    "    for item in q:\n",
    "        st = item[0] - 1\n",
    "        ed = item[1]\n",
    "        val = item[2]\n",
    "        for i in range(st, ed):\n",
    "            arr[i] += val\n",
    "    return max(arr)\n",
    "\n",
    "print(array_manipulation2(n, q))"
   ]
  },
  {
   "cell_type": "code",
   "execution_count": 78,
   "metadata": {},
   "outputs": [
    {
     "data": {
      "text/plain": [
       "-9223372036854775807"
      ]
     },
     "execution_count": 78,
     "metadata": {},
     "output_type": "execute_result"
    }
   ],
   "source": [
    "import sys\n",
    "- sys.maxsize"
   ]
  },
  {
   "cell_type": "code",
   "execution_count": 84,
   "metadata": {},
   "outputs": [
    {
     "name": "stdout",
     "output_type": "stream",
     "text": [
      "[0, 0, 0, 0, 0, 0, 0]\n",
      "[0, 100, 0, -100, 0, 0, 0]\n",
      "[0, 100, 100, -100, 0, 0, -100]\n",
      "[0, 100, 100, 0, 0, -100, -100]\n",
      "0 0 0\n",
      "100 100 100\n",
      "200 200 100\n",
      "200 200 0\n",
      "200 200 0\n",
      "200 100 -100\n",
      "200 0 -100\n",
      "200\n"
     ]
    }
   ],
   "source": [
    "n = 5\n",
    "arr = [0] * (n + 2)\n",
    "q = [[1, 2, 100], \n",
    "     [2, 5, 100], \n",
    "     [3, 4, 100]]\n",
    "print(arr)\n",
    "\n",
    "for a, b, k in q:\n",
    "    arr[a] += k\n",
    "    arr[b+1] -= k\n",
    "    print(arr)\n",
    "\n",
    "maxval = 0\n",
    "current_sum = 0\n",
    "\n",
    "for i in arr:\n",
    "    current_sum += i\n",
    "    maxval = max(maxval, current_sum)\n",
    "    print(maxval, current_sum, i)\n",
    "\n",
    "print(maxval)"
   ]
  },
  {
   "cell_type": "code",
   "execution_count": null,
   "metadata": {},
   "outputs": [],
   "source": []
  }
 ],
 "metadata": {
  "kernelspec": {
   "display_name": "base",
   "language": "python",
   "name": "python3"
  },
  "language_info": {
   "codemirror_mode": {
    "name": "ipython",
    "version": 3
   },
   "file_extension": ".py",
   "mimetype": "text/x-python",
   "name": "python",
   "nbconvert_exporter": "python",
   "pygments_lexer": "ipython3",
   "version": "3.9.17"
  }
 },
 "nbformat": 4,
 "nbformat_minor": 2
}
