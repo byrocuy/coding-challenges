{
 "cells": [
  {
   "cell_type": "code",
   "execution_count": 55,
   "metadata": {},
   "outputs": [
    {
     "name": "stdout",
     "output_type": "stream",
     "text": [
      "[2, 3, 4, 1]\n"
     ]
    }
   ],
   "source": [
    "# Arrays\n",
    "# https://www.hackerrank.com/challenges/arrays-ds/problem\n",
    "\n",
    "A = [1, 4, 3, 2]\n",
    "\n",
    "def reverseArray(a):\n",
    "    # easy way:\n",
    "    # return a[::-1]\n",
    "    \n",
    "    # manual way:\n",
    "    n = len(a)\n",
    "    for i in range(n//2):\n",
    "        a[i], a[n-1-i] = a[n-1-i], a[i]\n",
    "    return a\n",
    "\n",
    "print(reverseArray(A)) # [2, 3, 4, 1]"
   ]
  },
  {
   "cell_type": "code",
   "execution_count": 1,
   "metadata": {},
   "outputs": [
    {
     "name": "stdout",
     "output_type": "stream",
     "text": [
      "19\n"
     ]
    }
   ],
   "source": [
    "# 2D Arrays\n",
    "# https://www.hackerrank.com/challenges/2d-array/problem\n",
    "\n",
    "arr = [[1, 1, 1, 0, 0, 0],\n",
    "        [0, 1, 0, 0, 0, 0],\n",
    "        [1, 1, 1, 0, 0, 0],\n",
    "        [0, 0, 2, 4, 4, 0],\n",
    "        [0, 0, 0, 2, 0, 0],\n",
    "        [0, 0, 1, 2, 4, 0]]\n",
    "\n",
    "def hourglassSum(arr):\n",
    "    max_sum = -63 # minimum possible sum\n",
    "    for i in range(4):\n",
    "        for j in range(4):\n",
    "            top = sum(arr[i][j:j+3])\n",
    "            mid = arr[i+1][j+1]\n",
    "            bot = sum(arr[i+2][j:j+3])\n",
    "            total = top + mid + bot\n",
    "            if total > max_sum:\n",
    "                max_sum = total\n",
    "    return max_sum\n",
    "\n",
    "print(hourglassSum(arr)) # 19"
   ]
  },
  {
   "cell_type": "code",
   "execution_count": 14,
   "metadata": {},
   "outputs": [
    {
     "name": "stdout",
     "output_type": "stream",
     "text": [
      "[2, 3, 4, 5, 1]\n"
     ]
    }
   ],
   "source": [
    "# Left Rotation\n",
    "\n",
    "n = 5\n",
    "d = 4\n",
    "\n",
    "arr = [1, 2, 3, 4, 5]\n",
    "\n",
    "def rotleft(arr, d):\n",
    "    arr = arr[d:] + arr[:d] \n",
    "    return arr\n",
    "\n",
    "print(rotleft(arr, 1))"
   ]
  },
  {
   "cell_type": "code",
   "execution_count": 37,
   "metadata": {},
   "outputs": [
    {
     "name": "stdout",
     "output_type": "stream",
     "text": [
      "[1, 3, 4, 3, 2]\n"
     ]
    }
   ],
   "source": [
    "# Sparse Array\n",
    "from collections import Counter\n",
    "\n",
    "string_list = ['abcde', 'sdaklfj', 'asdjf', 'na', 'basdn', 'sdaklfj', 'asdjf', 'na', 'asdjf', 'na', 'basdn', 'sdaklfj', 'asdjf']\n",
    "query_list = ['abcde', 'sdaklfj', 'asdjf', 'na', 'basdn']\n",
    "\n",
    "def match_strings(string_list, queries):\n",
    "    count_arr = len(queries) * [0]\n",
    "    count = Counter(string_list)\n",
    "    count_arr = [count[item] if item in count else 0 for item in queries]\n",
    "    return count_arr\n",
    "    \n",
    "\n",
    "arr = match_strings(string_list, query_list)\n",
    "print(arr, )"
   ]
  },
  {
   "cell_type": "code",
   "execution_count": 69,
   "metadata": {},
   "outputs": [
    {
     "name": "stdout",
     "output_type": "stream",
     "text": [
      "[0, 0, 0, 0, 0]\n",
      "[100, 100, 0, 0, 0]\n",
      "[100, 200, 100, 100, 100]\n",
      "[100, 200, 200, 200, 100]\n",
      "200\n"
     ]
    }
   ],
   "source": [
    "# Array Manipulation\n",
    "\n",
    "n = 5\n",
    "q = [[1, 2, 100], \n",
    "     [2, 5, 100], \n",
    "     [3, 4, 100]]\n",
    "\n",
    "def array_manipulation(n, q):\n",
    "    arr = [0] * n\n",
    "    print(arr)\n",
    "    for item in q:\n",
    "        st = item[0] - 1\n",
    "        ed = item[1]\n",
    "        val = item[2]\n",
    "        arr[st:ed] = list(map(lambda x: x + val, arr[st:ed]))\n",
    "        print(arr)\n",
    "    return max(arr)\n",
    "\n",
    "print(array_manipulation(n, q))"
   ]
  },
  {
   "cell_type": "code",
   "execution_count": 72,
   "metadata": {},
   "outputs": [
    {
     "name": "stdout",
     "output_type": "stream",
     "text": [
      "31\n"
     ]
    }
   ],
   "source": [
    "def array_manipulation2(n, q):\n",
    "    arr = [0] * n\n",
    "    for item in q:\n",
    "        st = item[0] - 1\n",
    "        ed = item[1]\n",
    "        val = item[2]\n",
    "        for i in range(st, ed):\n",
    "            arr[i] += val\n",
    "    return max(arr)\n",
    "\n",
    "print(array_manipulation2(n, q))"
   ]
  },
  {
   "cell_type": "code",
   "execution_count": 78,
   "metadata": {},
   "outputs": [
    {
     "data": {
      "text/plain": [
       "-9223372036854775807"
      ]
     },
     "execution_count": 78,
     "metadata": {},
     "output_type": "execute_result"
    }
   ],
   "source": [
    "import sys\n",
    "- sys.maxsize"
   ]
  },
  {
   "cell_type": "code",
   "execution_count": 84,
   "metadata": {},
   "outputs": [
    {
     "name": "stdout",
     "output_type": "stream",
     "text": [
      "[0, 0, 0, 0, 0, 0, 0]\n",
      "[0, 100, 0, -100, 0, 0, 0]\n",
      "[0, 100, 100, -100, 0, 0, -100]\n",
      "[0, 100, 100, 0, 0, -100, -100]\n",
      "0 0 0\n",
      "100 100 100\n",
      "200 200 100\n",
      "200 200 0\n",
      "200 200 0\n",
      "200 100 -100\n",
      "200 0 -100\n",
      "200\n"
     ]
    }
   ],
   "source": [
    "n = 5\n",
    "arr = [0] * (n + 2)\n",
    "q = [[1, 2, 100], \n",
    "     [2, 5, 100], \n",
    "     [3, 4, 100]]\n",
    "print(arr)\n",
    "\n",
    "for a, b, k in q:\n",
    "    arr[a] += k\n",
    "    arr[b+1] -= k\n",
    "    print(arr)\n",
    "\n",
    "maxval = 0\n",
    "current_sum = 0\n",
    "\n",
    "for i in arr:\n",
    "    current_sum += i\n",
    "    maxval = max(maxval, current_sum)\n",
    "    print(maxval, current_sum, i)\n",
    "\n",
    "print(maxval)"
   ]
  },
  {
   "cell_type": "code",
   "execution_count": 5,
   "metadata": {},
   "outputs": [
    {
     "name": "stdout",
     "output_type": "stream",
     "text": [
      "[[5], []]\n",
      "[[5], [7]]\n",
      "[[5, 3], [7]]\n",
      "[[5, 3], [7]]\n",
      "[[5, 3], [7]]\n"
     ]
    },
    {
     "data": {
      "text/plain": [
       "[7, 3]"
      ]
     },
     "execution_count": 5,
     "metadata": {},
     "output_type": "execute_result"
    }
   ],
   "source": [
    "# Dynamic Array\n",
    "\n",
    "n = 2\n",
    "q = [[1, 0, 5],\n",
    "    [1, 1, 7],\n",
    "    [1, 0, 3],\n",
    "    [2, 1, 0],\n",
    "    [2, 1, 1]]\n",
    "\n",
    "def dynamic_array(n, q):\n",
    "    last_answer = 0\n",
    "    arr = [[] for _ in range(2)]\n",
    "    results = []\n",
    "    idx = lambda x, last_answer, n: (x ^ last_answer) % n\n",
    "    for query, x, y in q:\n",
    "        if query == 1:\n",
    "            i = idx(x, last_answer, n)\n",
    "            arr[i].append(y)\n",
    "        elif query == 2:\n",
    "            i = idx(x, last_answer, n)\n",
    "            last_answer = arr[i][y % len(arr[i])]\n",
    "            results.append(last_answer)\n",
    "        print(arr)\n",
    "\n",
    "    return results\n",
    "\n",
    "dynamic_array(n, q)"
   ]
  },
  {
   "cell_type": "code",
   "execution_count": 19,
   "metadata": {},
   "outputs": [],
   "source": [
    "# Insert a Node at the tail of the Linked List\n",
    "\n",
    "class SinglyLinkedListNode:\n",
    "    def __init__(self, node_data):\n",
    "        self.data = node_data\n",
    "        self.next = None\n",
    "    \n",
    "class SinglyLinkedList:\n",
    "    def __init__(self, nodes=None):\n",
    "        self.head = None\n",
    "        if nodes is not None:\n",
    "            node = SinglyLinkedListNode(nodes.pop(0))\n",
    "            self.head = node\n",
    "            for elem in nodes:\n",
    "                node.next = SinglyLinkedListNode(node_data=elem)\n",
    "                node = node.next\n",
    "\n",
    "    def __repr__(self) -> str:\n",
    "        node = self.head\n",
    "        nodes = []\n",
    "        while node is not None:\n",
    "            nodes.append(node.data)\n",
    "            node = node.next\n",
    "        nodes.append(\"None\")\n",
    "        return \" -> \".join(nodes)\n",
    "\n",
    "def insertNodeAtTail(head, data):\n",
    "    n = SinglyLinkedListNode(data)\n",
    "    if head is None:\n",
    "        head = n\n",
    "    else:\n",
    "        current = head\n",
    "        while current.next is not None:\n",
    "            current = current.next\n",
    "        current.next = n\n",
    "    return head\n",
    "\n",
    "llist_items = [141, 302, 164, 530, 474]\n",
    "llist = SinglyLinkedList()\n",
    "\n",
    "for item in llist_items:\n",
    "    llist_head = insertNodeAtTail(llist.head, str(item))\n",
    "    llist.head = llist_head"
   ]
  },
  {
   "cell_type": "code",
   "execution_count": 20,
   "metadata": {},
   "outputs": [
    {
     "name": "stdout",
     "output_type": "stream",
     "text": [
      "141 -> 302 -> 164 -> 530 -> 474 -> None\n"
     ]
    }
   ],
   "source": [
    "print(llist)"
   ]
  },
  {
   "cell_type": "code",
   "execution_count": 21,
   "metadata": {},
   "outputs": [
    {
     "name": "stdout",
     "output_type": "stream",
     "text": [
      "474 -> 530 -> 164 -> 302 -> 141 -> None\n"
     ]
    }
   ],
   "source": [
    "# Inserting a node at the head of a Linked List\n",
    "def insertNodeAtHead(head, data):\n",
    "    n = SinglyLinkedListNode(data)\n",
    "    n.next = head\n",
    "    return n\n",
    "\n",
    "llist_items = [141, 302, 164, 530, 474]\n",
    "llist = SinglyLinkedList()\n",
    "\n",
    "for item in llist_items:\n",
    "    llist_head = insertNodeAtHead(llist.head, str(item))\n",
    "    llist.head = llist_head\n",
    "\n",
    "print(llist)"
   ]
  },
  {
   "cell_type": "code",
   "execution_count": 24,
   "metadata": {},
   "outputs": [
    {
     "name": "stdout",
     "output_type": "stream",
     "text": [
      "16 -> 13 -> 1 -> 7 -> None\n"
     ]
    }
   ],
   "source": [
    "# Inserting a node at a specific position in a Linked List\n",
    "\n",
    "def insertNodeAtSpecificPosition(head, data, position):\n",
    "    n = SinglyLinkedListNode(data)\n",
    "    if position == 0:\n",
    "        n.next = head\n",
    "        return n\n",
    "    else:\n",
    "        current = head\n",
    "        for _ in range(position - 1):\n",
    "            current = current.next\n",
    "        n.next = current.next\n",
    "        current.next = n\n",
    "    return head\n",
    "\n",
    "llist = SinglyLinkedList([\"16\", \"13\", \"7\"])\n",
    "data = \"1\"\n",
    "position = 2\n",
    "\n",
    "llist_head = insertNodeAtSpecificPosition(llist.head, data, position)\n",
    "llist.head = llist_head\n",
    "\n",
    "print(llist)"
   ]
  },
  {
   "cell_type": "code",
   "execution_count": null,
   "metadata": {},
   "outputs": [],
   "source": []
  }
 ],
 "metadata": {
  "kernelspec": {
   "display_name": "base",
   "language": "python",
   "name": "python3"
  },
  "language_info": {
   "codemirror_mode": {
    "name": "ipython",
    "version": 3
   },
   "file_extension": ".py",
   "mimetype": "text/x-python",
   "name": "python",
   "nbconvert_exporter": "python",
   "pygments_lexer": "ipython3",
   "version": "3.9.17"
  }
 },
 "nbformat": 4,
 "nbformat_minor": 2
}
