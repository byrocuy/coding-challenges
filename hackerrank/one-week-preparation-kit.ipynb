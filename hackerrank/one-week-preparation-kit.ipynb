{
 "cells": [
  {
   "cell_type": "code",
   "execution_count": 6,
   "metadata": {},
   "outputs": [],
   "source": [
    "from time import time"
   ]
  },
  {
   "cell_type": "code",
   "execution_count": 8,
   "metadata": {},
   "outputs": [
    {
     "name": "stdout",
     "output_type": "stream",
     "text": [
      "0.500000\n",
      "0.333333\n",
      "0.166667\n",
      "execution time: 0.0009996891021728516\n"
     ]
    }
   ],
   "source": [
    "# plus minus\n",
    "# https://www.hackerrank.com/challenges/one-week-preparation-kit-plus-minus/problem\n",
    "t_start = time()\n",
    "n = 6\n",
    "arr = [-4, 3, -9, 0, 4, 1]\n",
    "\n",
    "def plusMinus(arr, n):\n",
    "    pos_count, neg_count, zero_count = 0, 0, 0\n",
    "    for num in arr:\n",
    "        if num > 0: pos_count += 1\n",
    "        elif num < 0: neg_count += 1\n",
    "        else: zero_count += 1\n",
    "    results = map(lambda x: x / n, [pos_count, neg_count, zero_count])\n",
    "    for result in results:\n",
    "        print(f\"{result:.6f}\")\n",
    "\n",
    "plusMinus(arr, n)\n",
    "print(f'execution time: {time() - t_start} sec')"
   ]
  },
  {
   "cell_type": "code",
   "execution_count": 9,
   "metadata": {},
   "outputs": [
    {
     "name": "stdout",
     "output_type": "stream",
     "text": [
      "0.500000\n",
      "0.333333\n",
      "0.166667\n",
      "execution time: 0.0009982585906982422 sec\n"
     ]
    }
   ],
   "source": [
    "# Solution 2: using filter function\n",
    "t_start = time()\n",
    "\n",
    "def is_positive(num):\n",
    "    return num > 0\n",
    "def is_negative(num):\n",
    "    return num < 0\n",
    "def is_zero(num):\n",
    "    return num == 0\n",
    "\n",
    "def plusMinus2(arr, n):\n",
    "    pos_count = len(list(filter(is_positive, arr)))\n",
    "    neg_count = len(list(filter(is_negative, arr)))\n",
    "    zero_count = len(list(filter(is_zero, arr)))\n",
    "\n",
    "    print(f\"{pos_count / n:.6f}\")\n",
    "    print(f\"{neg_count / n:.6f}\")\n",
    "    print(f\"{zero_count / n:.6f}\")\n",
    "\n",
    "plusMinus2(arr, n)\n",
    "print(f'execution time: {time() - t_start} sec')"
   ]
  },
  {
   "cell_type": "code",
   "execution_count": 13,
   "metadata": {},
   "outputs": [
    {
     "name": "stdout",
     "output_type": "stream",
     "text": [
      "10 14\n",
      "execution time: 0.0019958019256591797 sec\n"
     ]
    }
   ],
   "source": [
    "# Mini-Max Sum\n",
    "# https://www.hackerrank.com/challenges/one-week-preparation-kit-mini-max-sum/problem\n",
    "\n",
    "from itertools import combinations\n",
    "\n",
    "t_start = time()\n",
    "\n",
    "arr = [1, 2, 3, 4, 5]\n",
    "combination_set = list(combinations(arr, 4))\n",
    "sum_list = list(map(lambda x: sum(x), combination_set))\n",
    "print(min(sum_list), max(sum_list))\n",
    "\n",
    "print(f'execution time: {time() - t_start} sec')"
   ]
  },
  {
   "cell_type": "code",
   "execution_count": 16,
   "metadata": {},
   "outputs": [
    {
     "name": "stdout",
     "output_type": "stream",
     "text": [
      "19:05:45\n",
      "execution time: 0.0005180835723876953 sec\n"
     ]
    }
   ],
   "source": [
    "# Time Conversion\n",
    "# https://www.hackerrank.com/challenges/one-week-preparation-kit-time-conversion/problem\n",
    "\n",
    "t_start = time()\n",
    "\n",
    "s = '07:05:45PM'\n",
    "\n",
    "def timeConversion(s):\n",
    "    hour, am_pm = s[:2], s[-2:]\n",
    "    if am_pm == 'PM' and hour != '12':\n",
    "        hour = str(int(hour) + 12)\n",
    "    elif am_pm == 'AM':\n",
    "        if hour == '12':\n",
    "            hour = '00'\n",
    "    return hour + s[2:-2]\n",
    "\n",
    "print(timeConversion(s))\n",
    "print(f'execution time: {time() - t_start} sec')"
   ]
  }
 ],
 "metadata": {
  "kernelspec": {
   "display_name": "base",
   "language": "python",
   "name": "python3"
  },
  "language_info": {
   "codemirror_mode": {
    "name": "ipython",
    "version": 3
   },
   "file_extension": ".py",
   "mimetype": "text/x-python",
   "name": "python",
   "nbconvert_exporter": "python",
   "pygments_lexer": "ipython3",
   "version": "3.9.17"
  }
 },
 "nbformat": 4,
 "nbformat_minor": 2
}
