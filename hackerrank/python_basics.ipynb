{
 "cells": [
  {
   "cell_type": "code",
   "execution_count": 7,
   "metadata": {},
   "outputs": [
    {
     "name": "stdout",
     "output_type": "stream",
     "text": [
      "Kakunami\n",
      "Varun\n"
     ]
    }
   ],
   "source": [
    "# Nested Lists\n",
    "# https://www.hackerrank.com/challenges/nested-list/problem\n",
    "students = []\n",
    "for _ in range(int(input())):\n",
    "    name = input()\n",
    "    score = float(input())\n",
    "    students.append([name, score])\n",
    "\n",
    "students.sort(key=lambda x: (x[1], x[0]))\n",
    "second_lowest_score = sorted(set([x[1] for x in students]))[1]\n",
    "print('\\n'.join([x[0] for x in students if x[1] == second_lowest_score]))"
   ]
  },
  {
   "cell_type": "code",
   "execution_count": 1,
   "metadata": {},
   "outputs": [
    {
     "name": "stdout",
     "output_type": "stream",
     "text": [
      "26.50\n"
     ]
    }
   ],
   "source": [
    "# Find the percentage\n",
    "# https://www.hackerrank.com/challenges/finding-the-percentage/problem\n",
    "n = 2\n",
    "student_marks = {'Harsh': [25, 26.5, 28], 'Anurag': [26, 28, 30]}\n",
    "query_name = 'Harsh'\n",
    "\n",
    "avg = sum(student_marks[query_name]) / 3\n",
    "print(f'{avg:.2f}')"
   ]
  },
  {
   "cell_type": "code",
   "execution_count": null,
   "metadata": {},
   "outputs": [],
   "source": []
  }
 ],
 "metadata": {
  "kernelspec": {
   "display_name": "base",
   "language": "python",
   "name": "python3"
  },
  "language_info": {
   "codemirror_mode": {
    "name": "ipython",
    "version": 3
   },
   "file_extension": ".py",
   "mimetype": "text/x-python",
   "name": "python",
   "nbconvert_exporter": "python",
   "pygments_lexer": "ipython3",
   "version": "3.9.17"
  }
 },
 "nbformat": 4,
 "nbformat_minor": 2
}
