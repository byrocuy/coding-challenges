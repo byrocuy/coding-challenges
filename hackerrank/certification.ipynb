{
 "cells": [
  {
   "cell_type": "code",
   "execution_count": null,
   "metadata": {},
   "outputs": [],
   "source": [
    "# Multiset\n",
    "\n",
    "class Multiset:\n",
    "    def __init__(self):\n",
    "        # initializes the Multiset object\n",
    "        self.Multiset = []\n",
    "\n",
    "    def Add(self, val):\n",
    "        # adds one occurrence of val from the multiset, if any\n",
    "        self.Multiset.append(val)\n",
    "\n",
    "    def Remove(self, val):\n",
    "        # removes one occurrence of val from the multiset, if any\n",
    "        if val in self.Multiset:\n",
    "            self.Multiset.remove(val)\n",
    "\n",
    "    def __contains__(self, val):\n",
    "        # returns True when val is in the multiset, else returns False\n",
    "        return val in self.Multiset\n",
    "\n",
    "    def __len__(self):\n",
    "        # returns the number of elements in the multiset\n",
    "        return len(self.Multiset)"
   ]
  },
  {
   "cell_type": "code",
   "execution_count": null,
   "metadata": {},
   "outputs": [],
   "source": [
    "m = Multiset()\n",
    "m.Add(5)\n",
    "m.Add(5)\n",
    "print(5 in m) # True"
   ]
  },
  {
   "cell_type": "code",
   "execution_count": null,
   "metadata": {},
   "outputs": [],
   "source": []
  }
 ],
 "metadata": {
  "kernelspec": {
   "display_name": "base",
   "language": "python",
   "name": "python3"
  },
  "language_info": {
   "name": "python",
   "version": "3.9.17"
  }
 },
 "nbformat": 4,
 "nbformat_minor": 2
}
